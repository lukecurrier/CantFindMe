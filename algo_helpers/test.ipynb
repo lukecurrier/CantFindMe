{
 "cells": [
  {
   "cell_type": "code",
   "execution_count": 2,
   "metadata": {},
   "outputs": [],
   "source": [
    "def get_synonyms(word, postag):\n",
    "    synsets = wordnet.synsets(word, pos=postag)\n",
    "    synonyms = {lemma.name().replace('_', ' ') for syn in synsets for lemma in syn.lemmas()}\n",
    "    return list(synonyms)\n"
   ]
  },
  {
   "cell_type": "code",
   "execution_count": null,
   "metadata": {},
   "outputs": [
    {
     "ename": "ModuleNotFoundError",
     "evalue": "No module named 'pattern'",
     "output_type": "error",
     "traceback": [
      "\u001b[0;31m---------------------------------------------------------------------------\u001b[0m",
      "\u001b[0;31mModuleNotFoundError\u001b[0m                       Traceback (most recent call last)",
      "Cell \u001b[0;32mIn[17], line 5\u001b[0m\n\u001b[1;32m      3\u001b[0m \u001b[38;5;28;01mfrom\u001b[39;00m \u001b[38;5;21;01mnltk\u001b[39;00m\u001b[38;5;21;01m.\u001b[39;00m\u001b[38;5;21;01mcorpus\u001b[39;00m \u001b[38;5;28;01mimport\u001b[39;00m wordnet\n\u001b[1;32m      4\u001b[0m \u001b[38;5;28;01mimport\u001b[39;00m \u001b[38;5;21;01mrandom\u001b[39;00m\n\u001b[0;32m----> 5\u001b[0m \u001b[38;5;28;01mfrom\u001b[39;00m \u001b[38;5;21;01mpattern\u001b[39;00m\u001b[38;5;21;01m.\u001b[39;00m\u001b[38;5;21;01men\u001b[39;00m \u001b[38;5;28;01mimport\u001b[39;00m conjugate, lemma, PRESENT, PAST, SG, PL\n",
      "\u001b[0;31mModuleNotFoundError\u001b[0m: No module named 'pattern'"
     ]
    }
   ],
   "source": [
    "import nltk\n",
    "from nltk.corpus import wordnet\n",
    "import random\n"
   ]
  },
  {
   "cell_type": "code",
   "execution_count": 4,
   "metadata": {},
   "outputs": [
    {
     "name": "stderr",
     "output_type": "stream",
     "text": [
      "[nltk_data] Downloading package wordnet to /Users/lsc/nltk_data...\n",
      "[nltk_data]   Package wordnet is already up-to-date!\n",
      "[nltk_data] Downloading package omw-1.4 to /Users/lsc/nltk_data...\n",
      "[nltk_data]   Package omw-1.4 is already up-to-date!\n"
     ]
    },
    {
     "data": {
      "text/plain": [
       "True"
      ]
     },
     "execution_count": 4,
     "metadata": {},
     "output_type": "execute_result"
    }
   ],
   "source": [
    "nltk.download('wordnet')\n",
    "nltk.download('omw-1.4')\n"
   ]
  },
  {
   "cell_type": "code",
   "execution_count": 5,
   "metadata": {},
   "outputs": [],
   "source": [
    "nlp = spacy.load(\"en_core_web_sm\")\n"
   ]
  },
  {
   "cell_type": "code",
   "execution_count": 36,
   "metadata": {},
   "outputs": [],
   "source": [
    "def substitute_words(text, p_level):\n",
    "    \"\"\"Perform static substitution on eligible words.\"\"\"\n",
    "    doc = nlp(text)\n",
    "    perturbed_text = []\n",
    "    \n",
    "    for token in doc:\n",
    "        if token.pos_ in {\"ADJ\", \"VERB\", \"ADV\"} and random.random() < p_level: \n",
    "            pos_map = {\"ADJ\": wordnet.ADJ, \"VERB\": wordnet.VERB, \"ADV\": wordnet.ADV}\n",
    "            synonyms = get_synonyms(token.text, pos_map[token.pos_])\n",
    "            if synonyms:\n",
    "                # Choose a random synonym and preserve the token's original spacing\n",
    "                perturbed_text.append(synonyms[random.randint(0, len(synonyms) - 1)] + token.whitespace_)\n",
    "            else:\n",
    "                perturbed_text.append(token.text + token.whitespace_)\n",
    "        else:\n",
    "            perturbed_text.append(token.text + token.whitespace_)\n",
    "    \n",
    "    return \"\".join(perturbed_text)\n"
   ]
  },
  {
   "cell_type": "code",
   "execution_count": 37,
   "metadata": {},
   "outputs": [
    {
     "name": "stdout",
     "output_type": "stream",
     "text": [
      "Original: If you're visiting this page, you're likely here because you're searching for a random sentence. Sometimes a random word just isn't enough, and that is where the random sentence generator comes into play. By inputting the desired number, you can make a list of as many random sentences as you want or need. Producing random sentences can be helpful in a number of different ways. For writers, a random sentence can help them get their creative juices flowing. Since the topic of the sentence is completely unknown, it forces the writer to be creative when the sentence appears. There are a number of different ways a writer can use the random sentence for creativity. The most common way to use the sentence is to begin a story. Another option is to include it somewhere in the story. A much more difficult challenge is to use it to end a story. In any of these cases, it forces the writer to think creatively since they have no idea what sentence will appear from the tool.\n",
      "\n",
      "\n",
      "Perturbed: If you're visiting this page, you're likely here because you're search for a random sentence. sometimes a random word just now isn't enough, and that is where the random sentence generator do into play. By inputting the trust number, you can pee a list of as many random sentences as you need or need. get random sentences can be helpful in a number of unlike ways. For writers, a random sentence can assist them get their originative juices flowing. Since the topic of the sentence is completely unknown, it forces the writer to be originative when the sentence come along. There comprise a number of unlike ways a writer can use the random sentence for creativity. The most common way to use the sentence is to get a story. Another option is to include it somewhere in the story. A much more difficult challenge is to use it to finish a story. In any of these cases, it draw the writer to mean creatively since they give no idea what sentence will appear from the tool.\n",
      "\n",
      "\n"
     ]
    }
   ],
   "source": [
    "input_text = \"\"\"If you're visiting this page, you're likely here because you're searching for a random sentence. Sometimes a random word just isn't enough, and that is where the random sentence generator comes into play. By inputting the desired number, you can make a list of as many random sentences as you want or need. Producing random sentences can be helpful in a number of different ways. For writers, a random sentence can help them get their creative juices flowing. Since the topic of the sentence is completely unknown, it forces the writer to be creative when the sentence appears. There are a number of different ways a writer can use the random sentence for creativity. The most common way to use the sentence is to begin a story. Another option is to include it somewhere in the story. A much more difficult challenge is to use it to end a story. In any of these cases, it forces the writer to think creatively since they have no idea what sentence will appear from the tool.\n",
    "\n",
    "\"\"\"\n",
    "perturbed_output = substitute_words(input_text, 0.6)\n",
    "print(\"Original:\", input_text)\n",
    "print(\"Perturbed:\", perturbed_output)\n"
   ]
  },
  {
   "cell_type": "code",
   "execution_count": 23,
   "metadata": {},
   "outputs": [
    {
     "name": "stdout",
     "output_type": "stream",
     "text": [
      "Original: AI is advancing rapidly. Researchers are exploring its ethical implications. Public awareness is growing. Because of these advances, regulations are needed.\n",
      "Perturbed: Public awareness is growing. AI is advancing rapidly. Researchers are exploring its ethical implications. Because of these advances, regulations are needed.\n"
     ]
    }
   ],
   "source": [
    "def reorder_sentences(text):\n",
    "    doc = nlp(text)\n",
    "    \n",
    "    independent = []\n",
    "    dependent = []\n",
    "    for sent in doc.sents:\n",
    "        if any(tok.dep_ in {\"mark\", \"prep\", \"cc\"} for tok in sent): \n",
    "            dependent.append(sent.text)\n",
    "        else:\n",
    "            independent.append(sent.text)\n",
    "    \n",
    "    random.shuffle(independent)\n",
    "    \n",
    "    reordered = independent + dependent\n",
    "    return \" \".join(reordered)\n",
    "\n",
    "input_text = \"AI is advancing rapidly. Researchers are exploring its ethical implications. Public awareness is growing. Because of these advances, regulations are needed.\"\n",
    "perturbed_output = reorder_sentences(input_text)\n",
    "print(\"Original:\", input_text)\n",
    "print(\"Perturbed:\", perturbed_output)\n"
   ]
  },
  {
   "cell_type": "code",
   "execution_count": null,
   "metadata": {},
   "outputs": [],
   "source": []
  }
 ],
 "metadata": {
  "kernelspec": {
   "display_name": "trust",
   "language": "python",
   "name": "python3"
  },
  "language_info": {
   "codemirror_mode": {
    "name": "ipython",
    "version": 3
   },
   "file_extension": ".py",
   "mimetype": "text/x-python",
   "name": "python",
   "nbconvert_exporter": "python",
   "pygments_lexer": "ipython3",
   "version": "3.12.5"
  }
 },
 "nbformat": 4,
 "nbformat_minor": 2
}
